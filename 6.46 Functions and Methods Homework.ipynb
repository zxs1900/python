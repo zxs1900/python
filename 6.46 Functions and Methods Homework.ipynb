{
 "cells": [
  {
   "cell_type": "code",
   "execution_count": 7,
   "metadata": {},
   "outputs": [],
   "source": [
    "import math\n",
    "\n",
    "def vol(rad):\n",
    "    return (4/3) * math.pi * rad**3"
   ]
  },
  {
   "cell_type": "code",
   "execution_count": 17,
   "metadata": {},
   "outputs": [],
   "source": [
    "def ran_check(num,low,high):\n",
    "    if high >= num >= low:\n",
    "        print('{} is in the range between {} and {}'.format(num, low, high))\n",
    "    else:\n",
    "        print('{} is not in the range between {} and {}'.format(num, low, high))\n"
   ]
  },
  {
   "cell_type": "code",
   "execution_count": 47,
   "metadata": {},
   "outputs": [],
   "source": [
    "def up_low(s):\n",
    "    uppercase = 0\n",
    "    lowercase = 0\n",
    "    for i in s:\n",
    "        if i.isupper():\n",
    "            uppercase +=1\n",
    "        if i.islower():\n",
    "            lowercase +=1\n",
    "    print('No. of Uppercase Characters: {}'.format(uppercase))\n",
    "    print('No. of Lowercase Characters: {}'.format(lowercase))\n",
    "\n",
    "  "
   ]
  },
  {
   "cell_type": "code",
   "execution_count": 87,
   "metadata": {},
   "outputs": [],
   "source": [
    "def unique_list(lst):\n",
    "    m = []\n",
    "    for i in lst:\n",
    "        if i not in m:\n",
    "            m.append(i)\n",
    "    return m"
   ]
  },
  {
   "cell_type": "code",
   "execution_count": 94,
   "metadata": {},
   "outputs": [],
   "source": [
    "def multiply(numbers):\n",
    "    m = 1\n",
    "    for i in numbers:\n",
    "        m *= i\n",
    "    return m\n",
    "        "
   ]
  },
  {
   "cell_type": "code",
   "execution_count": 96,
   "metadata": {},
   "outputs": [],
   "source": [
    "def palindrome(s):\n",
    "    if s == s[::-1]:\n",
    "        return True"
   ]
  },
  {
   "cell_type": "code",
   "execution_count": 131,
   "metadata": {},
   "outputs": [],
   "source": [
    "import string\n",
    "\n",
    "def ispangram(str1, alphabet = string.ascii_lowercase):\n",
    "    for i in alphabet:\n",
    "        if i not in str1.lower():\n",
    "            return False\n",
    "    "
   ]
  }
 ],
 "metadata": {
  "kernelspec": {
   "display_name": "Python 3",
   "language": "python",
   "name": "python3"
  },
  "language_info": {
   "codemirror_mode": {
    "name": "ipython",
    "version": 3
   },
   "file_extension": ".py",
   "mimetype": "text/x-python",
   "name": "python",
   "nbconvert_exporter": "python",
   "pygments_lexer": "ipython3",
   "version": "3.7.1"
  }
 },
 "nbformat": 4,
 "nbformat_minor": 2
}
